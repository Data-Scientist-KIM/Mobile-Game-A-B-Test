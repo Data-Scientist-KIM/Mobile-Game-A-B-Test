{
 "cells": [
  {
   "cell_type": "markdown",
   "id": "e6378c82",
   "metadata": {},
   "source": [
    "# 모바일 게임 A/B testing"
   ]
  },
  {
   "cell_type": "markdown",
   "id": "86b08e21",
   "metadata": {},
   "source": [
    "## 문제 상황  \n",
    "\n",
    "A게임사는 이번에 업데이트한 게임 Version에 대해서 적용 여부를 검토 중이다. 단순한 버그를 잡기위한 업데이트가 아닌 게임의 컨텐츠와 방식에  \n",
    "대한 전반적인 내용이 변경되는 대대적인 업데이트라 반영하기 이전에 정말 효과가 있는지 검증해보고자 한다. 따라서 몇 명의 User에  \n",
    "대해서 테스트해보고 효과가 있다면 Version up을 진행하고자 한다."
   ]
  },
  {
   "cell_type": "markdown",
   "id": "003d0d47",
   "metadata": {},
   "source": [
    "## 문제 해결 프로세스  \n",
    "\n",
    "1. 문제정의\n",
    "\n",
    "- Version 업데이트 적용여부 불분명\n",
    "\n",
    "2. 기대효과\n",
    "\n",
    "- Version 업데이트 확정 및 진행\n",
    "\n",
    "3. 해결방안\n",
    "\n",
    "- A/B test를 통해 Version up 유의미성 확인 및 업데이트 수행\n",
    "\n",
    "4. 성과측정\n",
    "\n",
    "- T test 결과, 유의미성 확인(P-value)"
   ]
  },
  {
   "cell_type": "code",
   "execution_count": 1,
   "id": "5274123f",
   "metadata": {},
   "outputs": [
    {
     "data": {
      "text/html": [
       "<div>\n",
       "<style scoped>\n",
       "    .dataframe tbody tr th:only-of-type {\n",
       "        vertical-align: middle;\n",
       "    }\n",
       "\n",
       "    .dataframe tbody tr th {\n",
       "        vertical-align: top;\n",
       "    }\n",
       "\n",
       "    .dataframe thead th {\n",
       "        text-align: right;\n",
       "    }\n",
       "</style>\n",
       "<table border=\"1\" class=\"dataframe\">\n",
       "  <thead>\n",
       "    <tr style=\"text-align: right;\">\n",
       "      <th></th>\n",
       "      <th>userid</th>\n",
       "      <th>version</th>\n",
       "      <th>sum_gamerounds</th>\n",
       "      <th>retention_1</th>\n",
       "      <th>retention_7</th>\n",
       "    </tr>\n",
       "  </thead>\n",
       "  <tbody>\n",
       "    <tr>\n",
       "      <th>0</th>\n",
       "      <td>116</td>\n",
       "      <td>gate_30</td>\n",
       "      <td>3</td>\n",
       "      <td>False</td>\n",
       "      <td>False</td>\n",
       "    </tr>\n",
       "    <tr>\n",
       "      <th>1</th>\n",
       "      <td>337</td>\n",
       "      <td>gate_30</td>\n",
       "      <td>38</td>\n",
       "      <td>True</td>\n",
       "      <td>False</td>\n",
       "    </tr>\n",
       "    <tr>\n",
       "      <th>2</th>\n",
       "      <td>377</td>\n",
       "      <td>gate_40</td>\n",
       "      <td>165</td>\n",
       "      <td>True</td>\n",
       "      <td>False</td>\n",
       "    </tr>\n",
       "    <tr>\n",
       "      <th>3</th>\n",
       "      <td>483</td>\n",
       "      <td>gate_40</td>\n",
       "      <td>1</td>\n",
       "      <td>False</td>\n",
       "      <td>False</td>\n",
       "    </tr>\n",
       "    <tr>\n",
       "      <th>4</th>\n",
       "      <td>488</td>\n",
       "      <td>gate_40</td>\n",
       "      <td>179</td>\n",
       "      <td>True</td>\n",
       "      <td>True</td>\n",
       "    </tr>\n",
       "  </tbody>\n",
       "</table>\n",
       "</div>"
      ],
      "text/plain": [
       "   userid  version  sum_gamerounds  retention_1  retention_7\n",
       "0     116  gate_30               3        False        False\n",
       "1     337  gate_30              38         True        False\n",
       "2     377  gate_40             165         True        False\n",
       "3     483  gate_40               1        False        False\n",
       "4     488  gate_40             179         True         True"
      ]
     },
     "execution_count": 1,
     "metadata": {},
     "output_type": "execute_result"
    }
   ],
   "source": [
    "import pandas as pd\n",
    "import warnings\n",
    "warnings.filterwarnings('ignore')\n",
    "\n",
    "df = pd.read_csv('C:/Users/USER/Desktop/Practice Project - ETC/모바일 게임 A-B testing/모바일 게임 A-B testing.csv')\n",
    "df.head()"
   ]
  },
  {
   "cell_type": "code",
   "execution_count": 2,
   "id": "f5bdb0d6",
   "metadata": {},
   "outputs": [
    {
     "name": "stdout",
     "output_type": "stream",
     "text": [
      "<class 'pandas.core.frame.DataFrame'>\n",
      "RangeIndex: 90189 entries, 0 to 90188\n",
      "Data columns (total 5 columns):\n",
      " #   Column          Non-Null Count  Dtype \n",
      "---  ------          --------------  ----- \n",
      " 0   userid          90189 non-null  int64 \n",
      " 1   version         90189 non-null  object\n",
      " 2   sum_gamerounds  90189 non-null  int64 \n",
      " 3   retention_1     90189 non-null  bool  \n",
      " 4   retention_7     90189 non-null  bool  \n",
      "dtypes: bool(2), int64(2), object(1)\n",
      "memory usage: 2.2+ MB\n"
     ]
    }
   ],
   "source": [
    "df.info()"
   ]
  },
  {
   "cell_type": "code",
   "execution_count": 3,
   "id": "e2defe8b",
   "metadata": {},
   "outputs": [
    {
     "data": {
      "text/plain": [
       "userid            0\n",
       "version           0\n",
       "sum_gamerounds    0\n",
       "retention_1       0\n",
       "retention_7       0\n",
       "dtype: int64"
      ]
     },
     "execution_count": 3,
     "metadata": {},
     "output_type": "execute_result"
    }
   ],
   "source": [
    "df.isnull().sum()"
   ]
  },
  {
   "cell_type": "markdown",
   "id": "b1e73870",
   "metadata": {},
   "source": [
    "#### 변수 해석 3가지  \n",
    "\n",
    "1. 결측치 존재 여부\n",
    "\n",
    "- 전체 데이터에서 모든 변수에 결측치가 존재하지 않는다.\n",
    "\n",
    "- 만약, 결측치의 개수가 전체 5% 미만이면 제거해도 좋다.\n",
    "\n",
    "- 결측치를 대체하는 경우, object형태는 최빈값으로 대체하고, float64형태는 평균으로 대체하거나 KNN을 사용할 수 있다.\n",
    "\n",
    "2. 데이터 타입 설명\n",
    "\n",
    "- object64형태 1개, int64형태 2개, bool형태2개로 구성되어 있다.\n",
    "\n",
    "3. 컬럼 설명\n",
    "\n",
    "- user_id : 사용자ID\n",
    "- version : 버젼\n",
    "- sum_gamerounds : 총 플레이 횟수\n",
    "- retention_1 : 1일 이후 재방문\n",
    "- retention_7 : 7일 이후 재방문"
   ]
  },
  {
   "cell_type": "code",
   "execution_count": 4,
   "id": "2cfc63d7",
   "metadata": {},
   "outputs": [
    {
     "data": {
      "text/html": [
       "<div>\n",
       "<style scoped>\n",
       "    .dataframe tbody tr th:only-of-type {\n",
       "        vertical-align: middle;\n",
       "    }\n",
       "\n",
       "    .dataframe tbody tr th {\n",
       "        vertical-align: top;\n",
       "    }\n",
       "\n",
       "    .dataframe thead th {\n",
       "        text-align: right;\n",
       "    }\n",
       "</style>\n",
       "<table border=\"1\" class=\"dataframe\">\n",
       "  <thead>\n",
       "    <tr style=\"text-align: right;\">\n",
       "      <th></th>\n",
       "      <th>userid</th>\n",
       "      <th>sum_gamerounds</th>\n",
       "    </tr>\n",
       "  </thead>\n",
       "  <tbody>\n",
       "    <tr>\n",
       "      <th>count</th>\n",
       "      <td>9.018900e+04</td>\n",
       "      <td>90189.000000</td>\n",
       "    </tr>\n",
       "    <tr>\n",
       "      <th>mean</th>\n",
       "      <td>4.998412e+06</td>\n",
       "      <td>51.872457</td>\n",
       "    </tr>\n",
       "    <tr>\n",
       "      <th>std</th>\n",
       "      <td>2.883286e+06</td>\n",
       "      <td>195.050858</td>\n",
       "    </tr>\n",
       "    <tr>\n",
       "      <th>min</th>\n",
       "      <td>1.160000e+02</td>\n",
       "      <td>0.000000</td>\n",
       "    </tr>\n",
       "    <tr>\n",
       "      <th>25%</th>\n",
       "      <td>2.512230e+06</td>\n",
       "      <td>5.000000</td>\n",
       "    </tr>\n",
       "    <tr>\n",
       "      <th>50%</th>\n",
       "      <td>4.995815e+06</td>\n",
       "      <td>16.000000</td>\n",
       "    </tr>\n",
       "    <tr>\n",
       "      <th>75%</th>\n",
       "      <td>7.496452e+06</td>\n",
       "      <td>51.000000</td>\n",
       "    </tr>\n",
       "    <tr>\n",
       "      <th>max</th>\n",
       "      <td>9.999861e+06</td>\n",
       "      <td>49854.000000</td>\n",
       "    </tr>\n",
       "  </tbody>\n",
       "</table>\n",
       "</div>"
      ],
      "text/plain": [
       "             userid  sum_gamerounds\n",
       "count  9.018900e+04    90189.000000\n",
       "mean   4.998412e+06       51.872457\n",
       "std    2.883286e+06      195.050858\n",
       "min    1.160000e+02        0.000000\n",
       "25%    2.512230e+06        5.000000\n",
       "50%    4.995815e+06       16.000000\n",
       "75%    7.496452e+06       51.000000\n",
       "max    9.999861e+06    49854.000000"
      ]
     },
     "execution_count": 4,
     "metadata": {},
     "output_type": "execute_result"
    }
   ],
   "source": [
    "df.describe()"
   ]
  },
  {
   "cell_type": "markdown",
   "id": "4c913412",
   "metadata": {},
   "source": [
    "우선 describe로 이상치를 판단하기 위해서는 mean, min, max 값을 확인하는 것이 좋다. mean과 min, mean과 max 값이 std에 비해 한참 차이가 난다면, 이상치가 있을 가능성이 높다\n",
    "\n",
    "이러한 이상치를 정확히 판단하기 위해서는 아래와 같이 boxplot으로 시각화하여 보는 것이 정확하다"
   ]
  },
  {
   "cell_type": "code",
   "execution_count": 7,
   "id": "3cfa5886",
   "metadata": {},
   "outputs": [],
   "source": [
    "df_n = df.select_dtypes(exclude = ['object','bool'])"
   ]
  },
  {
   "cell_type": "code",
   "execution_count": 8,
   "id": "625712ab",
   "metadata": {},
   "outputs": [
    {
     "data": {
      "text/html": [
       "<div>\n",
       "<style scoped>\n",
       "    .dataframe tbody tr th:only-of-type {\n",
       "        vertical-align: middle;\n",
       "    }\n",
       "\n",
       "    .dataframe tbody tr th {\n",
       "        vertical-align: top;\n",
       "    }\n",
       "\n",
       "    .dataframe thead th {\n",
       "        text-align: right;\n",
       "    }\n",
       "</style>\n",
       "<table border=\"1\" class=\"dataframe\">\n",
       "  <thead>\n",
       "    <tr style=\"text-align: right;\">\n",
       "      <th></th>\n",
       "      <th>이상치 탐색 변수</th>\n",
       "      <th>이상치 탐색 값</th>\n",
       "    </tr>\n",
       "  </thead>\n",
       "  <tbody>\n",
       "    <tr>\n",
       "      <th>0</th>\n",
       "      <td>userid</td>\n",
       "      <td>116</td>\n",
       "    </tr>\n",
       "    <tr>\n",
       "      <th>1</th>\n",
       "      <td>userid</td>\n",
       "      <td>337</td>\n",
       "    </tr>\n",
       "    <tr>\n",
       "      <th>2</th>\n",
       "      <td>userid</td>\n",
       "      <td>377</td>\n",
       "    </tr>\n",
       "    <tr>\n",
       "      <th>3</th>\n",
       "      <td>userid</td>\n",
       "      <td>483</td>\n",
       "    </tr>\n",
       "    <tr>\n",
       "      <th>4</th>\n",
       "      <td>userid</td>\n",
       "      <td>488</td>\n",
       "    </tr>\n",
       "    <tr>\n",
       "      <th>...</th>\n",
       "      <td>...</td>\n",
       "      <td>...</td>\n",
       "    </tr>\n",
       "    <tr>\n",
       "      <th>180373</th>\n",
       "      <td>sum_gamerounds</td>\n",
       "      <td>97</td>\n",
       "    </tr>\n",
       "    <tr>\n",
       "      <th>180374</th>\n",
       "      <td>sum_gamerounds</td>\n",
       "      <td>30</td>\n",
       "    </tr>\n",
       "    <tr>\n",
       "      <th>180375</th>\n",
       "      <td>sum_gamerounds</td>\n",
       "      <td>28</td>\n",
       "    </tr>\n",
       "    <tr>\n",
       "      <th>180376</th>\n",
       "      <td>sum_gamerounds</td>\n",
       "      <td>51</td>\n",
       "    </tr>\n",
       "    <tr>\n",
       "      <th>180377</th>\n",
       "      <td>sum_gamerounds</td>\n",
       "      <td>16</td>\n",
       "    </tr>\n",
       "  </tbody>\n",
       "</table>\n",
       "<p>180378 rows × 2 columns</p>\n",
       "</div>"
      ],
      "text/plain": [
       "             이상치 탐색 변수  이상치 탐색 값\n",
       "0               userid       116\n",
       "1               userid       337\n",
       "2               userid       377\n",
       "3               userid       483\n",
       "4               userid       488\n",
       "...                ...       ...\n",
       "180373  sum_gamerounds        97\n",
       "180374  sum_gamerounds        30\n",
       "180375  sum_gamerounds        28\n",
       "180376  sum_gamerounds        51\n",
       "180377  sum_gamerounds        16\n",
       "\n",
       "[180378 rows x 2 columns]"
      ]
     },
     "execution_count": 8,
     "metadata": {},
     "output_type": "execute_result"
    }
   ],
   "source": [
    "outlier = pd.melt(df_n, var_name = '이상치 탐색 변수', value_name = '이상치 탐색 값')\n",
    "outlier"
   ]
  },
  {
   "cell_type": "code",
   "execution_count": 9,
   "id": "99775fd1",
   "metadata": {},
   "outputs": [
    {
     "data": {
      "image/png": "[encoded data removed]",
      "text/plain": [
       "<Figure size 600x400 with 1 Axes>"
      ]
     },
     "metadata": {},
     "output_type": "display_data"
    }
   ],
   "source": [
    "import seaborn as sns\n",
    "import matplotlib.pyplot as plt\n",
    "%matplotlib inline\n",
    "from matplotlib import rc\n",
    "rc(\"font\", family = 'Malgun Gothic')\n",
    "plt.rcParams['axes.unicode_minus'] = False\n",
    "\n",
    "plt.figure(figsize = (6,4))\n",
    "sns.boxplot(x = '이상치 탐색 변수', y = '이상치 탐색 값', data = outlier)\n",
    "plt.xticks(range(2), df_n.columns)\n",
    "plt.show()"
   ]
  },
  {
   "cell_type": "markdown",
   "id": "c64b30f0",
   "metadata": {},
   "source": [
    "이상치를 탐색하기 위해서 수치형 변수만 선택해서 boxplot으로 시각화하였다. 이상치의 값이 연속적으로 나타나면, 보통 의미있는 값일 확률이 높기 때문에 따로 제거하거나 대체하지 않고, 눈에 띄는 이상치가 있을 경우에는 보통 제거하거나 대체하는 경우가 많다.(예를 들어, AGE 변수에 999값이 있다면 제거하거나 대체해야한다)"
   ]
  },
  {
   "cell_type": "code",
   "execution_count": 10,
   "id": "15f7aca3",
   "metadata": {},
   "outputs": [
    {
     "data": {
      "image/png": "[encoded data removed]",
      "text/plain": [
       "<Figure size 640x480 with 1 Axes>"
      ]
     },
     "metadata": {},
     "output_type": "display_data"
    }
   ],
   "source": [
    "sns.distplot(df['sum_gamerounds']);"
   ]
  },
  {
   "cell_type": "markdown",
   "id": "efcfbf97",
   "metadata": {},
   "source": [
    "하지만, 총 플레이 횟수가 mean 대비 max가 상식적으로 이해하기 어렵기 때문에 상세한 탐색을 실시한다"
   ]
  },
  {
   "cell_type": "code",
   "execution_count": 11,
   "id": "4b8918fe",
   "metadata": {},
   "outputs": [
    {
     "data": {
      "text/html": [
       "<div>\n",
       "<style scoped>\n",
       "    .dataframe tbody tr th:only-of-type {\n",
       "        vertical-align: middle;\n",
       "    }\n",
       "\n",
       "    .dataframe tbody tr th {\n",
       "        vertical-align: top;\n",
       "    }\n",
       "\n",
       "    .dataframe thead th {\n",
       "        text-align: right;\n",
       "    }\n",
       "</style>\n",
       "<table border=\"1\" class=\"dataframe\">\n",
       "  <thead>\n",
       "    <tr style=\"text-align: right;\">\n",
       "      <th></th>\n",
       "      <th>userid</th>\n",
       "      <th>version</th>\n",
       "      <th>sum_gamerounds</th>\n",
       "      <th>retention_1</th>\n",
       "      <th>retention_7</th>\n",
       "    </tr>\n",
       "  </thead>\n",
       "  <tbody>\n",
       "    <tr>\n",
       "      <th>57702</th>\n",
       "      <td>6390605</td>\n",
       "      <td>gate_30</td>\n",
       "      <td>49854</td>\n",
       "      <td>False</td>\n",
       "      <td>True</td>\n",
       "    </tr>\n",
       "  </tbody>\n",
       "</table>\n",
       "</div>"
      ],
      "text/plain": [
       "        userid  version  sum_gamerounds  retention_1  retention_7\n",
       "57702  6390605  gate_30           49854        False         True"
      ]
     },
     "execution_count": 11,
     "metadata": {},
     "output_type": "execute_result"
    }
   ],
   "source": [
    "df[df['sum_gamerounds'] > 5000]"
   ]
  },
  {
   "cell_type": "code",
   "execution_count": 12,
   "id": "40cef150",
   "metadata": {},
   "outputs": [
    {
     "data": {
      "text/html": [
       "<div>\n",
       "<style scoped>\n",
       "    .dataframe tbody tr th:only-of-type {\n",
       "        vertical-align: middle;\n",
       "    }\n",
       "\n",
       "    .dataframe tbody tr th {\n",
       "        vertical-align: top;\n",
       "    }\n",
       "\n",
       "    .dataframe thead th {\n",
       "        text-align: right;\n",
       "    }\n",
       "</style>\n",
       "<table border=\"1\" class=\"dataframe\">\n",
       "  <thead>\n",
       "    <tr style=\"text-align: right;\">\n",
       "      <th></th>\n",
       "      <th>userid</th>\n",
       "      <th>sum_gamerounds</th>\n",
       "    </tr>\n",
       "  </thead>\n",
       "  <tbody>\n",
       "    <tr>\n",
       "      <th>count</th>\n",
       "      <td>9.018800e+04</td>\n",
       "      <td>90188.000000</td>\n",
       "    </tr>\n",
       "    <tr>\n",
       "      <th>mean</th>\n",
       "      <td>4.998397e+06</td>\n",
       "      <td>51.320253</td>\n",
       "    </tr>\n",
       "    <tr>\n",
       "      <th>std</th>\n",
       "      <td>2.883298e+06</td>\n",
       "      <td>102.682719</td>\n",
       "    </tr>\n",
       "    <tr>\n",
       "      <th>min</th>\n",
       "      <td>1.160000e+02</td>\n",
       "      <td>0.000000</td>\n",
       "    </tr>\n",
       "    <tr>\n",
       "      <th>25%</th>\n",
       "      <td>2.512211e+06</td>\n",
       "      <td>5.000000</td>\n",
       "    </tr>\n",
       "    <tr>\n",
       "      <th>50%</th>\n",
       "      <td>4.995804e+06</td>\n",
       "      <td>16.000000</td>\n",
       "    </tr>\n",
       "    <tr>\n",
       "      <th>75%</th>\n",
       "      <td>7.496461e+06</td>\n",
       "      <td>51.000000</td>\n",
       "    </tr>\n",
       "    <tr>\n",
       "      <th>max</th>\n",
       "      <td>9.999861e+06</td>\n",
       "      <td>2961.000000</td>\n",
       "    </tr>\n",
       "  </tbody>\n",
       "</table>\n",
       "</div>"
      ],
      "text/plain": [
       "             userid  sum_gamerounds\n",
       "count  9.018800e+04    90188.000000\n",
       "mean   4.998397e+06       51.320253\n",
       "std    2.883298e+06      102.682719\n",
       "min    1.160000e+02        0.000000\n",
       "25%    2.512211e+06        5.000000\n",
       "50%    4.995804e+06       16.000000\n",
       "75%    7.496461e+06       51.000000\n",
       "max    9.999861e+06     2961.000000"
      ]
     },
     "execution_count": 12,
     "metadata": {},
     "output_type": "execute_result"
    }
   ],
   "source": [
    "df = df[df['sum_gamerounds'] < 5000]\n",
    "df.describe()"
   ]
  },
  {
   "cell_type": "markdown",
   "id": "aabd9744",
   "metadata": {},
   "source": [
    "위의 분포를 확인한 결과, 극단적으로 떨어진 값이 1개밖에 없기 때문에 이상치로 판단하고 제거해준다"
   ]
  },
  {
   "cell_type": "markdown",
   "id": "a8af2261",
   "metadata": {},
   "source": [
    "1. A/B Test\n",
    "\n",
    "- 웹페이지, 어플리케이션, 게임, 마케팅 등 서로 다른 2개의 상황에서의 반응률을 비교하여 어떤 상황이 더 효과적인지 판단하는 방법론\n",
    "\n",
    "- 일반적으로 A가 기존 상황, B가 새로 변경할 상황\n",
    "\n",
    "- P-value값이 0.05보다 작으면 대립가설을 채택\n",
    "\n",
    "\n",
    "2. A/B Test 예시\n",
    "\n",
    "- 타겟 마케팅 수행 후 실험군/대조군 반응률 GAP 분석\n",
    "\n",
    "- 마케팅 채널(카카오톡채널, App push 등)에 따른 반응률 GAP 분석\n",
    "\n",
    "- 페이지 탐색시 무한 스크롤 VS 페이지 section\n",
    "\n",
    "\n",
    "3. A/B Test Process\n",
    "\n",
    "- 1단계 : Test 설계, 비교하고자 하는 A/B를 정의\n",
    "\n",
    "\n",
    "- 2단계 : 가설 수립 (ex. A와 B의 반응률은 차이가 없을 것이다)\n",
    "\n",
    "\n",
    "- 3단계 : Pilot test(부분 테스트)를 통한 데이터 수집\n",
    "\n",
    "\n",
    "- 4단계 : T test 및 결과 확인\n",
    "\n",
    "\n",
    "- 5단계 : 유의하다면 B를 적용\n",
    "\n",
    "\n",
    "4. A/B Test 구분\n",
    "\n",
    "- 연속형 변수 : T test\n",
    "\n",
    "- 범주형 변수 : Chi2 test(카이제곱)\n",
    "\n",
    "\n",
    "5. A/B Test 주의사항\n",
    "\n",
    "- A,B 집단이 동일한 특성을 가지고 있는지\n",
    "\n",
    "- A,B 집단이 동일한 비율로 나뉘었는지(50 : 50)\n",
    "\n",
    "- 1번이 아닌 2,3번 반복해서 정말 유의미한 결과인지\n",
    "\n",
    "- 유의하다 = GAP(차이)이 유의하다\n",
    "\n",
    "- 만약 결과가 유의하지 않다면 개선사항을 찾아보고 다시 1단계부터 재진행"
   ]
  },
  {
   "cell_type": "markdown",
   "id": "5e3c3c57",
   "metadata": {},
   "source": [
    "## 반응률 분석"
   ]
  },
  {
   "cell_type": "code",
   "execution_count": 14,
   "id": "9f858ec3",
   "metadata": {},
   "outputs": [
    {
     "name": "stdout",
     "output_type": "stream",
     "text": [
      "총 User 수 :  90188\n"
     ]
    }
   ],
   "source": [
    "print(\"총 User 수 : \", df['userid'].count())"
   ]
  },
  {
   "cell_type": "code",
   "execution_count": 15,
   "id": "167d53cb",
   "metadata": {},
   "outputs": [
    {
     "name": "stdout",
     "output_type": "stream",
     "text": [
      "gate_30 User 수 : 44699\n",
      "gate_40 User 수 : 45489\n"
     ]
    }
   ],
   "source": [
    "print(\"gate_30 User 수 :\", len(df[df['version'] == 'gate_30']))\n",
    "print('gate_40 User 수 :', len(df[df['version'] == 'gate_40']))"
   ]
  },
  {
   "cell_type": "code",
   "execution_count": 16,
   "id": "5a940409",
   "metadata": {},
   "outputs": [
    {
     "data": {
      "text/html": [
       "<div>\n",
       "<style scoped>\n",
       "    .dataframe tbody tr th:only-of-type {\n",
       "        vertical-align: middle;\n",
       "    }\n",
       "\n",
       "    .dataframe tbody tr th {\n",
       "        vertical-align: top;\n",
       "    }\n",
       "\n",
       "    .dataframe thead th {\n",
       "        text-align: right;\n",
       "    }\n",
       "</style>\n",
       "<table border=\"1\" class=\"dataframe\">\n",
       "  <thead>\n",
       "    <tr style=\"text-align: right;\">\n",
       "      <th></th>\n",
       "      <th>userid</th>\n",
       "      <th>version</th>\n",
       "      <th>sum_gamerounds</th>\n",
       "      <th>retention_1</th>\n",
       "      <th>retention_7</th>\n",
       "    </tr>\n",
       "  </thead>\n",
       "  <tbody>\n",
       "    <tr>\n",
       "      <th>0</th>\n",
       "      <td>116</td>\n",
       "      <td>gate_30</td>\n",
       "      <td>3</td>\n",
       "      <td>0</td>\n",
       "      <td>0</td>\n",
       "    </tr>\n",
       "    <tr>\n",
       "      <th>1</th>\n",
       "      <td>337</td>\n",
       "      <td>gate_30</td>\n",
       "      <td>38</td>\n",
       "      <td>1</td>\n",
       "      <td>0</td>\n",
       "    </tr>\n",
       "    <tr>\n",
       "      <th>2</th>\n",
       "      <td>377</td>\n",
       "      <td>gate_40</td>\n",
       "      <td>165</td>\n",
       "      <td>1</td>\n",
       "      <td>0</td>\n",
       "    </tr>\n",
       "    <tr>\n",
       "      <th>3</th>\n",
       "      <td>483</td>\n",
       "      <td>gate_40</td>\n",
       "      <td>1</td>\n",
       "      <td>0</td>\n",
       "      <td>0</td>\n",
       "    </tr>\n",
       "    <tr>\n",
       "      <th>4</th>\n",
       "      <td>488</td>\n",
       "      <td>gate_40</td>\n",
       "      <td>179</td>\n",
       "      <td>1</td>\n",
       "      <td>1</td>\n",
       "    </tr>\n",
       "  </tbody>\n",
       "</table>\n",
       "</div>"
      ],
      "text/plain": [
       "   userid  version  sum_gamerounds  retention_1  retention_7\n",
       "0     116  gate_30               3            0            0\n",
       "1     337  gate_30              38            1            0\n",
       "2     377  gate_40             165            1            0\n",
       "3     483  gate_40               1            0            0\n",
       "4     488  gate_40             179            1            1"
      ]
     },
     "execution_count": 16,
     "metadata": {},
     "output_type": "execute_result"
    }
   ],
   "source": [
    "import numpy as np\n",
    "df['retention_1'] = np.where(df['retention_1'] == True, 1, 0)\n",
    "df['retention_7'] = np.where(df['retention_7'] == True, 1, 0)\n",
    "df.head(5)"
   ]
  },
  {
   "cell_type": "markdown",
   "id": "0d9ed246",
   "metadata": {},
   "source": [
    "bool형태(True, False)로 된 retention 값을 계산이 가능한 1과 0으로 변경해준다"
   ]
  },
  {
   "cell_type": "code",
   "execution_count": 17,
   "id": "573106bf",
   "metadata": {},
   "outputs": [
    {
     "data": {
      "image/png": "[encoded data removed]",
      "text/plain": [
       "<Figure size 2500x300 with 1 Axes>"
      ]
     },
     "metadata": {},
     "output_type": "display_data"
    }
   ],
   "source": [
    "sns.kdeplot(df[df['version']=='gate_30']['sum_gamerounds'], shade=True, label='gate_30')\n",
    "sns.kdeplot(df[df['version']=='gate_40']['sum_gamerounds'], shade=True, label='gate_40')\n",
    "plt.gcf().set_size_inches(25, 3)\n",
    "plt.legend()\n",
    "plt.show()"
   ]
  },
  {
   "cell_type": "markdown",
   "id": "dad3f6f7",
   "metadata": {},
   "source": [
    "총 플레이 횟수의 version별 분포를 비교해본다. 'shade=True'로 분포를 투명하게 만들어서 2개 분포를 비교할때 사용한다. 만약 분포가 비슷하면 차이를 파악하기 힘들기에 T test를 진행한다"
   ]
  },
  {
   "cell_type": "code",
   "execution_count": 18,
   "id": "dd7a09cf",
   "metadata": {},
   "outputs": [
    {
     "data": {
      "image/png": "[encoded data removed]",
      "text/plain": [
       "<Figure size 2500x300 with 1 Axes>"
      ]
     },
     "metadata": {},
     "output_type": "display_data"
    }
   ],
   "source": [
    "sns.kdeplot(df[df['version']=='gate_30']['sum_gamerounds'], shade=True, label='gate_30')\n",
    "sns.kdeplot(df[df['version']=='gate_40']['sum_gamerounds'], shade=True, label='gate_40')\n",
    "plt.gcf().set_size_inches(25, 3)\n",
    "plt.legend()\n",
    "plt.xlim(-100, 100)\n",
    "plt.show()"
   ]
  },
  {
   "cell_type": "markdown",
   "id": "464e4312",
   "metadata": {},
   "source": [
    "총 플레이 횟수의 version별 분포를 xlim으로 조절해 확인한 결과, 위의 그래프상으로는 크게 차이가 있는지 확인이 불가능하다"
   ]
  },
  {
   "cell_type": "code",
   "execution_count": 19,
   "id": "6eb1970d",
   "metadata": {},
   "outputs": [
    {
     "name": "stdout",
     "output_type": "stream",
     "text": [
      "gate_30 게임횟수 평균 :  51.342110561757536\n",
      "gate_30 게임횟수 평균 :  51.29877552814966\n"
     ]
    }
   ],
   "source": [
    "print(\"gate_30 게임횟수 평균 : \" ,df[df['version']=='gate_30']['sum_gamerounds'].mean())\n",
    "print(\"gate_30 게임횟수 평균 : \", df[df['version']=='gate_40']['sum_gamerounds'].mean())"
   ]
  },
  {
   "cell_type": "code",
   "execution_count": 20,
   "id": "a68a9d5b",
   "metadata": {},
   "outputs": [
    {
     "data": {
      "text/plain": [
       "0    24665\n",
       "1    20034\n",
       "Name: retention_1, dtype: int64"
      ]
     },
     "execution_count": 20,
     "metadata": {},
     "output_type": "execute_result"
    }
   ],
   "source": [
    "df[df['version']=='gate_30']['retention_1'].value_counts()"
   ]
  },
  {
   "cell_type": "code",
   "execution_count": 22,
   "id": "96cc0547",
   "metadata": {},
   "outputs": [
    {
     "name": "stdout",
     "output_type": "stream",
     "text": [
      "gate_30 1일 후 재방문율 평균 :  44.81979462627799\n"
     ]
    }
   ],
   "source": [
    "print(\"gate_30 1일 후 재방문율 평균 : \", (20034 / (20034 + 24665))*100)"
   ]
  },
  {
   "cell_type": "code",
   "execution_count": 23,
   "id": "bbd778a4",
   "metadata": {},
   "outputs": [
    {
     "data": {
      "text/plain": [
       "0    25370\n",
       "1    20119\n",
       "Name: retention_1, dtype: int64"
      ]
     },
     "execution_count": 23,
     "metadata": {},
     "output_type": "execute_result"
    }
   ],
   "source": [
    "df[df['version']=='gate_40']['retention_1'].value_counts()"
   ]
  },
  {
   "cell_type": "code",
   "execution_count": 24,
   "id": "5cfa8b9e",
   "metadata": {},
   "outputs": [
    {
     "name": "stdout",
     "output_type": "stream",
     "text": [
      "gate_40 1일 후 재방문율 평균 :  44.22827496757458\n"
     ]
    }
   ],
   "source": [
    "print(\"gate_40 1일 후 재방문율 평균 : \", (20119 / (20119 + 25370))*100)"
   ]
  },
  {
   "cell_type": "code",
   "execution_count": 25,
   "id": "962f1c1e",
   "metadata": {},
   "outputs": [
    {
     "data": {
      "text/plain": [
       "0    36198\n",
       "1     8501\n",
       "Name: retention_7, dtype: int64"
      ]
     },
     "execution_count": 25,
     "metadata": {},
     "output_type": "execute_result"
    }
   ],
   "source": [
    "df[df['version']=='gate_30']['retention_7'].value_counts()"
   ]
  },
  {
   "cell_type": "code",
   "execution_count": 26,
   "id": "b1a12429",
   "metadata": {},
   "outputs": [
    {
     "name": "stdout",
     "output_type": "stream",
     "text": [
      "gate_30 7일 후 재방문율 평균 :  19.018322557551624\n"
     ]
    }
   ],
   "source": [
    "print(\"gate_30 7일 후 재방문율 평균 : \", (8501 / (8501 + 36198))*100)"
   ]
  },
  {
   "cell_type": "code",
   "execution_count": 27,
   "id": "b5384b3e",
   "metadata": {},
   "outputs": [
    {
     "data": {
      "text/plain": [
       "0    37210\n",
       "1     8279\n",
       "Name: retention_7, dtype: int64"
      ]
     },
     "execution_count": 27,
     "metadata": {},
     "output_type": "execute_result"
    }
   ],
   "source": [
    "df[df['version']=='gate_40']['retention_7'].value_counts()"
   ]
  },
  {
   "cell_type": "code",
   "execution_count": 28,
   "id": "e05aee0d",
   "metadata": {},
   "outputs": [
    {
     "name": "stdout",
     "output_type": "stream",
     "text": [
      "gate_40 7일 후 재방문율 평균 :  18.200004396667328\n"
     ]
    }
   ],
   "source": [
    "print(\"gate_40 7일 후 재방문율 평균 : \", (8279 / (8279 + 37210))*100)"
   ]
  },
  {
   "cell_type": "markdown",
   "id": "371c49fb",
   "metadata": {},
   "source": [
    "위의 비교결과를 확인한 결과, gate_30이 gate_40보다 총 User 수가 적지만 게임횟수/재방문율은 더 높은 것을 알 수 있다"
   ]
  },
  {
   "cell_type": "code",
   "execution_count": 30,
   "id": "a9d14439",
   "metadata": {},
   "outputs": [
    {
     "data": {
      "text/html": [
       "<div>\n",
       "<style scoped>\n",
       "    .dataframe tbody tr th:only-of-type {\n",
       "        vertical-align: middle;\n",
       "    }\n",
       "\n",
       "    .dataframe tbody tr th {\n",
       "        vertical-align: top;\n",
       "    }\n",
       "\n",
       "    .dataframe thead th {\n",
       "        text-align: right;\n",
       "    }\n",
       "</style>\n",
       "<table border=\"1\" class=\"dataframe\">\n",
       "  <thead>\n",
       "    <tr style=\"text-align: right;\">\n",
       "      <th></th>\n",
       "      <th>version</th>\n",
       "      <th>sum_gamerounds_mean</th>\n",
       "      <th>retention_1_count</th>\n",
       "      <th>retention_1_sum</th>\n",
       "      <th>retention_7_count</th>\n",
       "      <th>retention_7_sum</th>\n",
       "    </tr>\n",
       "  </thead>\n",
       "  <tbody>\n",
       "    <tr>\n",
       "      <th>0</th>\n",
       "      <td>gate_30</td>\n",
       "      <td>51.342111</td>\n",
       "      <td>44699</td>\n",
       "      <td>20034</td>\n",
       "      <td>44699</td>\n",
       "      <td>8501</td>\n",
       "    </tr>\n",
       "    <tr>\n",
       "      <th>1</th>\n",
       "      <td>gate_40</td>\n",
       "      <td>51.298776</td>\n",
       "      <td>45489</td>\n",
       "      <td>20119</td>\n",
       "      <td>45489</td>\n",
       "      <td>8279</td>\n",
       "    </tr>\n",
       "  </tbody>\n",
       "</table>\n",
       "</div>"
      ],
      "text/plain": [
       "   version  sum_gamerounds_mean  retention_1_count  retention_1_sum  \\\n",
       "0  gate_30            51.342111              44699            20034   \n",
       "1  gate_40            51.298776              45489            20119   \n",
       "\n",
       "   retention_7_count  retention_7_sum  \n",
       "0              44699             8501  \n",
       "1              45489             8279  "
      ]
     },
     "execution_count": 30,
     "metadata": {},
     "output_type": "execute_result"
    }
   ],
   "source": [
    "df.groupby('version')[['sum_gamerounds', 'retention_1', 'retention_7']].agg(['mean', 'count', 'sum'])\n",
    "\n",
    "\n",
    "df_pivot = pd.DataFrame(df.groupby('version')[['sum_gamerounds', 'retention_1', 'retention_7']].agg(['mean', 'count', 'sum']).reset_index())\n",
    "\n",
    "df_pivot.columns = ['version', 'sum_gamerounds_mean', 'sum_gamerounds_count', 'sum_gamerounds_sum',\n",
    "                    'retention_1_mean', 'retention_1_count', 'retention_1_sum', \n",
    "                    'retention_7_mean', 'retention_7_count', 'retention_7_sum']\n",
    "\n",
    "df_pivot = df_pivot[['version', 'sum_gamerounds_mean', 'retention_1_count', 'retention_1_sum', 'retention_7_count', 'retention_7_sum']]\n",
    "df_pivot"
   ]
  },
  {
   "cell_type": "markdown",
   "id": "f48ec7a5",
   "metadata": {},
   "source": [
    "연속형 변수는 평균, 범주형 변수는 반응률로 사전데이터를 준비하기 위해 mean/count/sum을 만들어주고 reset_index로 multi index를 제거하며 컬럼을 재정비한다  \n",
    "\n",
    "단, 연속형 변수는 평균값이 아닌 기본값을 입력해도 내부적으로 평균값을 산출해준다"
   ]
  },
  {
   "cell_type": "code",
   "execution_count": 31,
   "id": "1ce73f7d",
   "metadata": {},
   "outputs": [
    {
     "data": {
      "text/html": [
       "<div>\n",
       "<style scoped>\n",
       "    .dataframe tbody tr th:only-of-type {\n",
       "        vertical-align: middle;\n",
       "    }\n",
       "\n",
       "    .dataframe tbody tr th {\n",
       "        vertical-align: top;\n",
       "    }\n",
       "\n",
       "    .dataframe thead th {\n",
       "        text-align: right;\n",
       "    }\n",
       "</style>\n",
       "<table border=\"1\" class=\"dataframe\">\n",
       "  <thead>\n",
       "    <tr style=\"text-align: right;\">\n",
       "      <th></th>\n",
       "      <th>version</th>\n",
       "      <th>sum_gamerounds_mean</th>\n",
       "      <th>retention_1_count</th>\n",
       "      <th>retention_1_sum</th>\n",
       "      <th>retention_7_count</th>\n",
       "      <th>retention_7_sum</th>\n",
       "      <th>retention_1_ratio</th>\n",
       "      <th>retention_7_ratio</th>\n",
       "    </tr>\n",
       "  </thead>\n",
       "  <tbody>\n",
       "    <tr>\n",
       "      <th>0</th>\n",
       "      <td>gate_30</td>\n",
       "      <td>51.342111</td>\n",
       "      <td>44699</td>\n",
       "      <td>20034</td>\n",
       "      <td>44699</td>\n",
       "      <td>8501</td>\n",
       "      <td>0.448198</td>\n",
       "      <td>0.190183</td>\n",
       "    </tr>\n",
       "    <tr>\n",
       "      <th>1</th>\n",
       "      <td>gate_40</td>\n",
       "      <td>51.298776</td>\n",
       "      <td>45489</td>\n",
       "      <td>20119</td>\n",
       "      <td>45489</td>\n",
       "      <td>8279</td>\n",
       "      <td>0.442283</td>\n",
       "      <td>0.182000</td>\n",
       "    </tr>\n",
       "  </tbody>\n",
       "</table>\n",
       "</div>"
      ],
      "text/plain": [
       "   version  sum_gamerounds_mean  retention_1_count  retention_1_sum  \\\n",
       "0  gate_30            51.342111              44699            20034   \n",
       "1  gate_40            51.298776              45489            20119   \n",
       "\n",
       "   retention_7_count  retention_7_sum  retention_1_ratio  retention_7_ratio  \n",
       "0              44699             8501           0.448198           0.190183  \n",
       "1              45489             8279           0.442283           0.182000  "
      ]
     },
     "execution_count": 31,
     "metadata": {},
     "output_type": "execute_result"
    }
   ],
   "source": [
    "df_pivot['retention_1_ratio'] = df_pivot['retention_1_sum'] / df_pivot['retention_1_count']\n",
    "df_pivot['retention_7_ratio'] = df_pivot['retention_7_sum'] / df_pivot['retention_7_count']\n",
    "df_pivot"
   ]
  },
  {
   "cell_type": "markdown",
   "id": "479df028",
   "metadata": {},
   "source": [
    "범주형 변수 반응률을 계산하여 ratio를 생성해준다"
   ]
  },
  {
   "cell_type": "code",
   "execution_count": 33,
   "id": "be38cc27",
   "metadata": {},
   "outputs": [
    {
     "data": {
      "text/plain": [
       "Index(['version', 'sum_gamerounds_mean', 'retention_1_count',\n",
       "       'retention_1_sum', 'retention_7_count', 'retention_7_sum',\n",
       "       'retention_1_ratio', 'retention_7_ratio'],\n",
       "      dtype='object')"
      ]
     },
     "execution_count": 33,
     "metadata": {},
     "output_type": "execute_result"
    }
   ],
   "source": [
    "df_pivot.columns"
   ]
  },
  {
   "cell_type": "code",
   "execution_count": 34,
   "id": "2d665759",
   "metadata": {},
   "outputs": [
    {
     "data": {
      "text/html": [
       "<div>\n",
       "<style scoped>\n",
       "    .dataframe tbody tr th:only-of-type {\n",
       "        vertical-align: middle;\n",
       "    }\n",
       "\n",
       "    .dataframe tbody tr th {\n",
       "        vertical-align: top;\n",
       "    }\n",
       "\n",
       "    .dataframe thead th {\n",
       "        text-align: right;\n",
       "    }\n",
       "</style>\n",
       "<table border=\"1\" class=\"dataframe\">\n",
       "  <thead>\n",
       "    <tr style=\"text-align: right;\">\n",
       "      <th></th>\n",
       "      <th>version</th>\n",
       "      <th>sum_gamerounds_mean</th>\n",
       "      <th>retention_1_ratio</th>\n",
       "      <th>retention_7_ratio</th>\n",
       "    </tr>\n",
       "  </thead>\n",
       "  <tbody>\n",
       "    <tr>\n",
       "      <th>0</th>\n",
       "      <td>gate_30</td>\n",
       "      <td>51.342111</td>\n",
       "      <td>0.448198</td>\n",
       "      <td>0.190183</td>\n",
       "    </tr>\n",
       "    <tr>\n",
       "      <th>1</th>\n",
       "      <td>gate_40</td>\n",
       "      <td>51.298776</td>\n",
       "      <td>0.442283</td>\n",
       "      <td>0.182000</td>\n",
       "    </tr>\n",
       "  </tbody>\n",
       "</table>\n",
       "</div>"
      ],
      "text/plain": [
       "   version  sum_gamerounds_mean  retention_1_ratio  retention_7_ratio\n",
       "0  gate_30            51.342111           0.448198           0.190183\n",
       "1  gate_40            51.298776           0.442283           0.182000"
      ]
     },
     "execution_count": 34,
     "metadata": {},
     "output_type": "execute_result"
    }
   ],
   "source": [
    "df_pivot[['version', 'sum_gamerounds_mean', 'retention_1_ratio', 'retention_7_ratio']]"
   ]
  },
  {
   "cell_type": "markdown",
   "id": "5b8eefad",
   "metadata": {},
   "source": [
    "연속형 변수는 평균, 범주형 변수는 반응률로 사전데이터 준비를 완료한다"
   ]
  },
  {
   "cell_type": "markdown",
   "id": "e2b7f567",
   "metadata": {},
   "source": [
    "## T-test 활용 A/B testing"
   ]
  },
  {
   "cell_type": "code",
   "execution_count": 37,
   "id": "09dc7091",
   "metadata": {},
   "outputs": [
    {
     "name": "stdout",
     "output_type": "stream",
     "text": [
      "P-value: 0.011\n"
     ]
    }
   ],
   "source": [
    "from scipy import stats\n",
    "tstat, pvalue = stats.bartlett(df[df['version'] == 'gate_30']['sum_gamerounds'], df[df['version'] == 'gate_40']['sum_gamerounds'])\n",
    "print(\"P-value:\", round(pvalue,3))"
   ]
  },
  {
   "cell_type": "markdown",
   "id": "446b7700",
   "metadata": {},
   "source": [
    "- 귀무가설(H0) = A, B는 분산이 동일하다.  \n",
    "\n",
    "\n",
    "- 대립가설(H1) = A, B는 분산이 동일하지 않다.\n",
    "\n",
    "\n",
    "일반적으로 귀무가설은 \"차이가 없다(동일하다)\"로 설정하고 대립가설은 \"차이가 있다(동일하지 않다)\"로 설정한다  \n",
    "\n",
    "위의 P-value값이 0.05보다 작으므로 대립가설을 채택하게 된다. 따라서 등분산성을 만족하지 않으므로 두 데이터에 분산이 동일하지 않다"
   ]
  },
  {
   "cell_type": "code",
   "execution_count": 38,
   "id": "f6e91f04",
   "metadata": {},
   "outputs": [
    {
     "name": "stdout",
     "output_type": "stream",
     "text": [
      "P-value: 0.949\n"
     ]
    }
   ],
   "source": [
    "tstat, pvalue = stats.ttest_ind(df[df['version'] == 'gate_30']['sum_gamerounds'], df[df['version'] == 'gate_40']['sum_gamerounds'], equal_var=False)\n",
    "print(\"P-value:\", round(pvalue,3))"
   ]
  },
  {
   "cell_type": "markdown",
   "id": "7ecea317",
   "metadata": {},
   "source": [
    "equal_var\n",
    "\n",
    "- True : 등분산성 만족\n",
    "\n",
    "- False : 등분산성 만족 x"
   ]
  },
  {
   "cell_type": "markdown",
   "id": "b89c2e87",
   "metadata": {},
   "source": [
    "- 귀무가설(H0) = A와 B의 게임횟수 평균이 같다.\n",
    "\n",
    "\n",
    "- 대립가설(H1) = A와 B의 게임횟수 평균이 다르다.\n",
    "\n",
    "\n",
    "위의 P-value값이 0.05보다 크므로 귀무가설을 채택하게 된다. 따라서 A와 B의 게임횟수 평균이 같은 것으로 유의하지 않은 T test 결과가 나왔다(sum_gamerounds = 게임횟수)  "
   ]
  },
  {
   "cell_type": "code",
   "execution_count": 39,
   "id": "c0631364",
   "metadata": {},
   "outputs": [
    {
     "data": {
      "text/html": [
       "<div>\n",
       "<style scoped>\n",
       "    .dataframe tbody tr th:only-of-type {\n",
       "        vertical-align: middle;\n",
       "    }\n",
       "\n",
       "    .dataframe tbody tr th {\n",
       "        vertical-align: top;\n",
       "    }\n",
       "\n",
       "    .dataframe thead th {\n",
       "        text-align: right;\n",
       "    }\n",
       "</style>\n",
       "<table border=\"1\" class=\"dataframe\">\n",
       "  <thead>\n",
       "    <tr style=\"text-align: right;\">\n",
       "      <th></th>\n",
       "      <th>version</th>\n",
       "      <th>retention_1_count</th>\n",
       "      <th>retention_1_sum</th>\n",
       "    </tr>\n",
       "  </thead>\n",
       "  <tbody>\n",
       "    <tr>\n",
       "      <th>0</th>\n",
       "      <td>gate_30</td>\n",
       "      <td>44699</td>\n",
       "      <td>20034</td>\n",
       "    </tr>\n",
       "    <tr>\n",
       "      <th>1</th>\n",
       "      <td>gate_40</td>\n",
       "      <td>45489</td>\n",
       "      <td>20119</td>\n",
       "    </tr>\n",
       "  </tbody>\n",
       "</table>\n",
       "</div>"
      ],
      "text/plain": [
       "   version  retention_1_count  retention_1_sum\n",
       "0  gate_30              44699            20034\n",
       "1  gate_40              45489            20119"
      ]
     },
     "execution_count": 39,
     "metadata": {},
     "output_type": "execute_result"
    }
   ],
   "source": [
    "df_pivot_1 = df_pivot[['version', 'retention_1_count', 'retention_1_sum']]\n",
    "df_pivot_1"
   ]
  },
  {
   "cell_type": "code",
   "execution_count": 40,
   "id": "748d3c54",
   "metadata": {},
   "outputs": [
    {
     "data": {
      "text/html": [
       "<div>\n",
       "<style scoped>\n",
       "    .dataframe tbody tr th:only-of-type {\n",
       "        vertical-align: middle;\n",
       "    }\n",
       "\n",
       "    .dataframe tbody tr th {\n",
       "        vertical-align: top;\n",
       "    }\n",
       "\n",
       "    .dataframe thead th {\n",
       "        text-align: right;\n",
       "    }\n",
       "</style>\n",
       "<table border=\"1\" class=\"dataframe\">\n",
       "  <thead>\n",
       "    <tr style=\"text-align: right;\">\n",
       "      <th></th>\n",
       "      <th>yes</th>\n",
       "      <th>no</th>\n",
       "    </tr>\n",
       "  </thead>\n",
       "  <tbody>\n",
       "    <tr>\n",
       "      <th>0</th>\n",
       "      <td>20034</td>\n",
       "      <td>24665</td>\n",
       "    </tr>\n",
       "    <tr>\n",
       "      <th>1</th>\n",
       "      <td>20119</td>\n",
       "      <td>25370</td>\n",
       "    </tr>\n",
       "  </tbody>\n",
       "</table>\n",
       "</div>"
      ],
      "text/plain": [
       "     yes     no\n",
       "0  20034  24665\n",
       "1  20119  25370"
      ]
     },
     "execution_count": 40,
     "metadata": {},
     "output_type": "execute_result"
    }
   ],
   "source": [
    "df_pivot_1['retention_1_no'] = df_pivot_1['retention_1_count'] - df_pivot_1['retention_1_sum']\n",
    "df_pivot_1 = df_pivot_1[['retention_1_sum', 'retention_1_no']]\n",
    "df_pivot_1.columns = ['yes', 'no']\n",
    "df_pivot_1"
   ]
  },
  {
   "cell_type": "markdown",
   "id": "87669cfe",
   "metadata": {},
   "source": [
    "반응한 고객과 반응하지 않은 고객에 대한 관찰 빈도가 필요하기에 yes, no로 만들어준다"
   ]
  },
  {
   "cell_type": "code",
   "execution_count": 41,
   "id": "24c7f1b1",
   "metadata": {},
   "outputs": [
    {
     "name": "stdout",
     "output_type": "stream",
     "text": [
      "P-value: 0.07500999897705693\n"
     ]
    }
   ],
   "source": [
    "chi2, p_value, df, _ = stats.chi2_contingency(df_pivot_1)\n",
    "print(\"P-value:\",p_value)"
   ]
  },
  {
   "cell_type": "markdown",
   "id": "a3bfb1e4",
   "metadata": {},
   "source": [
    "- 귀무가설(H0) = A와 B의 리텐션 반응률 차이가 없다.  \n",
    "\n",
    "\n",
    "- 대립가설(H1) = A와 B의 리텐션 반응률 차이가 있다.\n",
    "\n",
    "\n",
    "위의 P-value값이 0.05보다 크므로 귀무가설을 채택하게 된다. 따라서 A와 B의 리텐션 반응률 차이가 없는 것으로 유의하지 않은 Chi2 test 결과가 나왔다(retention_1 = 1일 이후 재방문)"
   ]
  },
  {
   "cell_type": "code",
   "execution_count": 42,
   "id": "6e81b029",
   "metadata": {},
   "outputs": [
    {
     "data": {
      "text/html": [
       "<div>\n",
       "<style scoped>\n",
       "    .dataframe tbody tr th:only-of-type {\n",
       "        vertical-align: middle;\n",
       "    }\n",
       "\n",
       "    .dataframe tbody tr th {\n",
       "        vertical-align: top;\n",
       "    }\n",
       "\n",
       "    .dataframe thead th {\n",
       "        text-align: right;\n",
       "    }\n",
       "</style>\n",
       "<table border=\"1\" class=\"dataframe\">\n",
       "  <thead>\n",
       "    <tr style=\"text-align: right;\">\n",
       "      <th></th>\n",
       "      <th>version</th>\n",
       "      <th>retention_7_count</th>\n",
       "      <th>retention_7_sum</th>\n",
       "    </tr>\n",
       "  </thead>\n",
       "  <tbody>\n",
       "    <tr>\n",
       "      <th>0</th>\n",
       "      <td>gate_30</td>\n",
       "      <td>44699</td>\n",
       "      <td>8501</td>\n",
       "    </tr>\n",
       "    <tr>\n",
       "      <th>1</th>\n",
       "      <td>gate_40</td>\n",
       "      <td>45489</td>\n",
       "      <td>8279</td>\n",
       "    </tr>\n",
       "  </tbody>\n",
       "</table>\n",
       "</div>"
      ],
      "text/plain": [
       "   version  retention_7_count  retention_7_sum\n",
       "0  gate_30              44699             8501\n",
       "1  gate_40              45489             8279"
      ]
     },
     "execution_count": 42,
     "metadata": {},
     "output_type": "execute_result"
    }
   ],
   "source": [
    "df_pivot_2 = df_pivot[['version', 'retention_7_count', 'retention_7_sum']]\n",
    "df_pivot_2"
   ]
  },
  {
   "cell_type": "code",
   "execution_count": 43,
   "id": "56a1777f",
   "metadata": {},
   "outputs": [
    {
     "data": {
      "text/html": [
       "<div>\n",
       "<style scoped>\n",
       "    .dataframe tbody tr th:only-of-type {\n",
       "        vertical-align: middle;\n",
       "    }\n",
       "\n",
       "    .dataframe tbody tr th {\n",
       "        vertical-align: top;\n",
       "    }\n",
       "\n",
       "    .dataframe thead th {\n",
       "        text-align: right;\n",
       "    }\n",
       "</style>\n",
       "<table border=\"1\" class=\"dataframe\">\n",
       "  <thead>\n",
       "    <tr style=\"text-align: right;\">\n",
       "      <th></th>\n",
       "      <th>yes</th>\n",
       "      <th>no</th>\n",
       "    </tr>\n",
       "  </thead>\n",
       "  <tbody>\n",
       "    <tr>\n",
       "      <th>0</th>\n",
       "      <td>8501</td>\n",
       "      <td>36198</td>\n",
       "    </tr>\n",
       "    <tr>\n",
       "      <th>1</th>\n",
       "      <td>8279</td>\n",
       "      <td>37210</td>\n",
       "    </tr>\n",
       "  </tbody>\n",
       "</table>\n",
       "</div>"
      ],
      "text/plain": [
       "    yes     no\n",
       "0  8501  36198\n",
       "1  8279  37210"
      ]
     },
     "execution_count": 43,
     "metadata": {},
     "output_type": "execute_result"
    }
   ],
   "source": [
    "df_pivot_2['retention_7_no'] = df_pivot_2['retention_7_count'] - df_pivot_2['retention_7_sum']\n",
    "df_pivot_2 = df_pivot_2[['retention_7_sum', 'retention_7_no']]\n",
    "df_pivot_2.columns = ['yes', 'no']\n",
    "df_pivot_2"
   ]
  },
  {
   "cell_type": "markdown",
   "id": "47b4585c",
   "metadata": {},
   "source": [
    "반응한 고객과 반응하지 않은 고객에 대한 관찰 빈도가 필요하기에 yes, no로 만들어준다"
   ]
  },
  {
   "cell_type": "code",
   "execution_count": 44,
   "id": "46c21f63",
   "metadata": {},
   "outputs": [
    {
     "name": "stdout",
     "output_type": "stream",
     "text": [
      "P-value: 0.0016391259678654423\n"
     ]
    }
   ],
   "source": [
    "chi2, p_value, df, _ = stats.chi2_contingency(df_pivot_2)\n",
    "print(\"P-value:\",p_value)"
   ]
  },
  {
   "cell_type": "markdown",
   "id": "a7d4f02a",
   "metadata": {},
   "source": [
    "- 귀무가설(H0) = A와 B의 리텐션 반응률 차이가 없다.  \n",
    "\n",
    "\n",
    "- 대립가설(H1) = A와 B의 리텐션 반응률 차이가 있다.\n",
    "\n",
    "\n",
    "위의 P-value값이 0.05보다 작으므로 대립가설을 채택하게 된다. 따라서 A와 B의 리텐션 반응률 차이가 있는 것으로 유의한 Chi2 test 결과가 나왔다(retention_7 = 7일 이후 재방문)"
   ]
  },
  {
   "cell_type": "code",
   "execution_count": 45,
   "id": "52433d74",
   "metadata": {},
   "outputs": [
    {
     "name": "stdout",
     "output_type": "stream",
     "text": [
      "sum_gamerounds_diff : 0.04333503360787461\n",
      "retention_1_diff : 0.005915196587034155\n",
      "retention_7_diff : 0.00818318160884296\n"
     ]
    }
   ],
   "source": [
    "print('sum_gamerounds_diff :',df_pivot['sum_gamerounds_mean'].iloc[0] - df_pivot['sum_gamerounds_mean'].iloc[1])\n",
    "print('retention_1_diff :', df_pivot['retention_1_ratio'].iloc[0] - df_pivot['retention_1_ratio'].iloc[1])\n",
    "print('retention_7_diff :', df_pivot['retention_7_ratio'].iloc[0] - df_pivot['retention_7_ratio'].iloc[1])"
   ]
  },
  {
   "cell_type": "markdown",
   "id": "ce1b345b",
   "metadata": {},
   "source": [
    "- gate_30이 gate_40 대비 +0.04 더 많은 게임플레이횟수를 보였으나 우연에 의해 차이가 발생했을 확률이 높다(유의성이 없다)\n",
    "\n",
    "\n",
    "- gate_30이 gate_40 대비 +0.5% 더 많은 1일 이후 재방문율을 보였고, 유의성이 없다\n",
    "\n",
    "\n",
    "- gate_30이 gate_40 대비 +0.8% 더 많은 7일 이후 재방문율을 보였고, 신뢰수준 99% 이상으로 유의성이 있다"
   ]
  },
  {
   "cell_type": "markdown",
   "id": "249f0a1f",
   "metadata": {},
   "source": [
    "T test 결과\n",
    "\n",
    "- gate_30이 gate_40 대비 게임플레이횟수, 1일 이후 재방문율이 높게 나왔지만, 유의하지 않은 결과가 나왔기 때문에 랜덤으로 차이가 발생했을 것이다\n",
    "\n",
    "\n",
    "- gate_30이 gate_40 대비 7일 이후 재방문율이 높게 나왔고, 유의한 결과가 나왔기 때문에 GAP(차이)이 발생한 것이 사실이다\n",
    "\n",
    "\n",
    "성과측정은 유의성을 확인한 것으로 완료되었고, 게임 회사의 입장을 2가지로 생각해볼 수 있다\n",
    "\n",
    "1번 : 7일 이후 재방문율은 게임 회사의 중요하지 않은 부분이니 일단 업데이트 진행\n",
    "\n",
    "2번 : 7일 이후 재방문율은 게임 회사의 메인 업데이트이며 필수적인 부분이니 업데이트 다시 생각"
   ]
  }
 ],
 "metadata": {
  "kernelspec": {
   "display_name": "Python 3 (ipykernel)",
   "language": "python",
   "name": "python3"
  },
  "language_info": {
   "codemirror_mode": {
    "name": "ipython",
    "version": 3
   },
   "file_extension": ".py",
   "mimetype": "text/x-python",
   "name": "python",
   "nbconvert_exporter": "python",
   "pygments_lexer": "ipython3",
   "version": "3.7.13"
  }
 },
 "nbformat": 4,
 "nbformat_minor": 5
}
